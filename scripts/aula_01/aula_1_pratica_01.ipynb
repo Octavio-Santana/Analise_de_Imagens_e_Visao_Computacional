{
 "cells": [
  {
   "cell_type": "markdown",
   "id": "d5156eff",
   "metadata": {},
   "source": [
    "# Prática 01\n",
    "\n",
    "![](../../data/imagem/banner-pos-2022.jpg)\n",
    "\n",
    "-----------\n",
    "\n",
    "**Objetivo:**\n",
    "\n",
    "Praticar os conceitos básicos de manipulação de imagens usando OpenCV e NumPy.\n",
    "\n",
    "**Instruções:**\n",
    "\n",
    "Complete o código abaixo realizando as tarefas solicitadas nos comentários. Certifique-se de entender cada operação realizada."
   ]
  },
  {
   "cell_type": "code",
   "execution_count": null,
   "id": "74c65fd2",
   "metadata": {},
   "outputs": [],
   "source": [
    "import os\n",
    "import cv2\n",
    "import numpy as np\n",
    "\n",
    "PATH_DIR = \"../../data\"\n",
    "\n",
    "os.listdir(PATH_DIR)"
   ]
  },
  {
   "cell_type": "markdown",
   "id": "86ea743c",
   "metadata": {},
   "source": [
    "### 1. Carregue a imagem 'imagem_frutas.jpg' que está na mesma pasta\n",
    "Dica: use cv2.imread()"
   ]
  },
  {
   "cell_type": "code",
   "execution_count": null,
   "id": "b4ce8a64",
   "metadata": {},
   "outputs": [],
   "source": [
    "# Carregar uma imagem\n",
    "image = ...\n",
    "\n",
    "# Verificar se a imagem foi carregada corretamente\n",
    "if image is None:\n",
    "    print(\"Imagem não encontrada.\")\n",
    "else:\n",
    "    print(\"Imagem carregada com sucesso.\")"
   ]
  },
  {
   "cell_type": "markdown",
   "id": "aff33540",
   "metadata": {},
   "source": [
    "### 2. Exiba a imagem carregada em uma janela chamada 'Imagem Original'\n",
    "Dica: use cv2.imshow() e cv2.waitKey()"
   ]
  },
  {
   "cell_type": "code",
   "execution_count": null,
   "id": "5ee4ce60",
   "metadata": {},
   "outputs": [],
   "source": [
    "# Exibir imagem"
   ]
  },
  {
   "cell_type": "markdown",
   "id": "cfb45a31",
   "metadata": {},
   "source": [
    "### 3. Salve a imagem com o nome 'frutas_copia.jpg'\n",
    "Dica: use cv2.imwrite()"
   ]
  },
  {
   "cell_type": "code",
   "execution_count": null,
   "id": "c8122630",
   "metadata": {},
   "outputs": [],
   "source": [
    "# Salvar a imagem com nome \"frutas_copia.jpg\"\n",
    "sucesso = ...\n",
    "\n",
    "# Verifica se a imagem foi salva com sucesso\n",
    "if sucesso:\n",
    "    print(\"Imagem salva com sucesso.\")\n",
    "else:\n",
    "    print(\"Erro ao salvar a imagem.\")"
   ]
  },
  {
   "cell_type": "markdown",
   "id": "6f4d731e",
   "metadata": {},
   "source": [
    "### 4. Converta a imagem de BGR para RGB e exiba\n",
    "Dica: use cv2.cvtColor() com o parâmetro cv2.COLOR_BGR2RGB"
   ]
  },
  {
   "cell_type": "code",
   "execution_count": null,
   "id": "4f96f1dd",
   "metadata": {},
   "outputs": [],
   "source": [
    "# Converter imagem de BGR para RGB\n",
    "image_rgb = ...\n",
    "\n",
    "# Exibir imagem"
   ]
  },
  {
   "cell_type": "markdown",
   "id": "e6ba0b10",
   "metadata": {},
   "source": [
    "### 5. Converta a imagem original para escala de cinza e exiba\n",
    "Dica: use cv2.COLOR_BGR2GRAY"
   ]
  },
  {
   "cell_type": "code",
   "execution_count": null,
   "id": "ae7f94d2",
   "metadata": {},
   "outputs": [],
   "source": [
    "# Converter imagem de BGR para escala de cinza\n",
    "image_gray = ...\n",
    "\n",
    "# Exibir imagem"
   ]
  },
  {
   "cell_type": "markdown",
   "id": "c85266f4",
   "metadata": {},
   "source": [
    "### 6. Crie uma função que imprima as seguintes informações de uma imagem:\n",
    "* Shape (dimensões)\n",
    "* Tipo do array\n",
    "* Quantidade total de pixels\n",
    "* Valor máximo e mínimo dos pixels\n",
    "\n",
    "Aplique a função na imagem original e na imagem em escala de cinza."
   ]
  },
  {
   "cell_type": "code",
   "execution_count": null,
   "id": "833e960c",
   "metadata": {},
   "outputs": [],
   "source": [
    "def print_info_image(image):\n",
    "    \n",
    "    shape = ...\n",
    "    type = ...\n",
    "    total_pixels = ...\n",
    "    max_value = ...\n",
    "    min_value = ...\n",
    "\n",
    "    print(f\"Dimensões da imagem: {shape}\")\n",
    "    print(f\"Tipo de dado: {type}\")\n",
    "    print(f\"Número total de pixels: {total_pixels}\")\n",
    "    print(f\"Valor máximo: {max_value}\")\n",
    "    print(f\"Valor mínimo: {min_value}\")\n",
    "\n",
    "print(\"Image Original\")\n",
    "print_info_image(image = image)\n",
    "print()\n",
    "print(\"Image Escala de Cinza\")\n",
    "print_info_image(image = image_gray)    "
   ]
  },
  {
   "cell_type": "markdown",
   "id": "979b1798",
   "metadata": {},
   "source": [
    "### 7. Altere os valores dos pixels da imagem pixel\n",
    "\n",
    "* Altere o pixel na posição (5, 6) para vermelho puro\n",
    "* Altere o pixel na posição (2, 2) para verde puro \n",
    "* Altere o pixel na posição (9, 3) para amarelo\n",
    "\n",
    "Lembre-se que a imagem pixels está no formato BGR"
   ]
  },
  {
   "cell_type": "code",
   "execution_count": null,
   "id": "f081170b",
   "metadata": {},
   "outputs": [],
   "source": [
    "pixels = np.ones((10, 10, 3), dtype=np.uint8) * 220\n",
    "\n",
    "# Manipuilação de pixels\n",
    "\n",
    "# Exibir imagem"
   ]
  },
  {
   "cell_type": "markdown",
   "id": "446733eb",
   "metadata": {},
   "source": [
    "### 8. Recorte uma região de interesse (ROI) da imagem original\n",
    "\n",
    "Recorte um quadrado de 100x200 pixels a partir da posição (100, 100)"
   ]
  },
  {
   "cell_type": "code",
   "execution_count": null,
   "id": "2e7823d3",
   "metadata": {},
   "outputs": [],
   "source": [
    "# Região de Interesse (ROI)\n",
    "roi = ...\n",
    "\n",
    "# Exibir imagem original e ROI\n",
    "cv2.imshow('Imagem Original', image)\n",
    "cv2.imshow('ROI', roi)\n",
    "cv2.waitKey(0)\n",
    "cv2.destroyAllWindows()"
   ]
  },
  {
   "cell_type": "markdown",
   "id": "b7e6aaf6",
   "metadata": {},
   "source": [
    "### 9. Modificação Parcial de uma ROI\n",
    "\n",
    "**Objetivo:**\n",
    "\n",
    "Praticar a manipulação de regiões específicas em imagens usando operações de slicing e alteração de valores de pixels.\n",
    "\n",
    "**Contexto:**\n",
    "\n",
    "Com a `roi` obtida acima, sua tarefa é:\n",
    "\n",
    "* Divida a ROI horizontalmente em duas metades:\n",
    "\n",
    "    * Metade esquerda (50% da largura): Preencha com verde puro (BGR: (0, 255, 0)).\n",
    "    * Metade direita (50% da largura):\n",
    "        * Divida verticalmente em duas partes:\n",
    "            * Parte superior (50% da altura): Preencha com amarelo puro (BGR: (0, 255, 255)).\n",
    "            * Parte inferior (50% da altura): Preencha com azul puro (BGR: (255, 0, 0)).\n",
    "\n",
    "* Exiba os resultados:\n",
    "\n",
    "    * A ROI modificada (com as 3 cores aplicadas).\n",
    "    * A imagem original com a ROI modificada reinserida.\n",
    "\n",
    "Requisitos:\n",
    "\n",
    "* Não modifique a imagem original diretamente (trabalhe em uma cópia da ROI).\n",
    "* Use slicing avançado para selecionar as sub-regiões corretas.\n",
    "* Defina as cores corretamente no formato BGR.\n",
    "\n",
    "\n",
    "Dicas:\n",
    "* A ROI tem dimensões (altura, largura) = (100, 200).\n",
    "* Para selecionar metade da largura: roi[:, :largura//2] (esquerda) ou roi[:, largura//2:] (direita).\n",
    "* Para selecionar metade da altura: roi[:altura//2, :] (superior) ou roi[altura//2:, :] (inferior)."
   ]
  },
  {
   "cell_type": "code",
   "execution_count": null,
   "id": "5416ff18",
   "metadata": {},
   "outputs": [],
   "source": [
    "# Obtendo as dimensões da ROI\n",
    "altura, largura, _ = roi.shape\n",
    "\n",
    "# Manipulação do ROI\n",
    "roi_modificada = roi.copy()\n",
    "\n",
    "# Manipulação da imagem original\n",
    "image_modificada = image.copy()\n",
    "\n",
    "\n",
    "# Exibir imagem original modificada e ROI modificada\n",
    "cv2.imshow('Imagem Original Modificada', image_modificada)\n",
    "cv2.imshow('ROI Modificada', roi_modificada)\n",
    "cv2.waitKey(0)\n",
    "cv2.destroyAllWindows()"
   ]
  },
  {
   "cell_type": "markdown",
   "id": "e615a2ef",
   "metadata": {},
   "source": [
    "### 10. Visualização de Detecção de Faces com OpenCV\n",
    "\n",
    "**Objetivo**\n",
    "\n",
    "Seu modelo de detecção facial identificou uma face na imagem lenna_250.png e retornou as coordenadas da região detectada, \n",
    "```python\n",
    "# Coordenadas da detecção (x1, y1 = canto superior esquerdo; x2, y2 = canto inferior direito)\n",
    "x1, y1 = 70, 80\n",
    "x2, y2 = 200, 190\n",
    "```\n",
    "\n",
    "Sua tarefa é visualizar essa detecção desenhando um retângulo delimitador e adicionando um rótulo de identificação.\n",
    "\n",
    "**Tarefas:**\n",
    "\n",
    "* Carregue a imagem usando cv2.imread().\n",
    "* Crie uma cópia da imagem original para preservar os dados.\n",
    "* Desenhe um retângulo nas coordenadas fornecidas pelo modelo, com as seguintes propriedades:\n",
    "    * Cor: Vermelho (formato BGR).\n",
    "    * Espessura: 2 pixels.\n",
    "* Adicione um rótulo de texto no canto superior esquerdo do retângulo, com:\n",
    "    * Fonte: cv2.FONT_HERSHEY_SIMPLEX.\n",
    "    * Tamanho: 0.5.\n",
    "    * Cor: Vermelho (mesma cor do retângulo).\n",
    "    * Espessura: 2 pixels.\n",
    "* Exiba a imagem."
   ]
  },
  {
   "cell_type": "code",
   "execution_count": null,
   "id": "fa47b6b7",
   "metadata": {},
   "outputs": [],
   "source": [
    "# Carrega a imagem\n",
    "image = ...\n",
    "\n",
    "# Copia da imagem para desenho\n",
    "img_draw = image.copy()\n",
    "\n",
    "# Coordenadas da detecção (x1, y1 = canto superior esquerdo; x2, y2 = canto inferior direito)\n",
    "x1, y1 = 70, 80\n",
    "x2, y2 = 200, 190\n",
    "\n",
    "# Desenha o retângulo da detecção\n",
    "\n",
    "# Adiciona o rótulo\n",
    "texto = \"Lenna\"\n",
    "\n",
    "# Exibe o resultado\n"
   ]
  }
 ],
 "metadata": {
  "kernelspec": {
   "display_name": "curso_visao_computacional",
   "language": "python",
   "name": "python3"
  },
  "language_info": {
   "codemirror_mode": {
    "name": "ipython",
    "version": 3
   },
   "file_extension": ".py",
   "mimetype": "text/x-python",
   "name": "python",
   "nbconvert_exporter": "python",
   "pygments_lexer": "ipython3",
   "version": "3.9.5"
  }
 },
 "nbformat": 4,
 "nbformat_minor": 5
}
