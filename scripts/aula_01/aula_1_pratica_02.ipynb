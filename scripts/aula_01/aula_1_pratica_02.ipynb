{
 "cells": [
  {
   "cell_type": "markdown",
   "id": "efc606bd",
   "metadata": {},
   "source": [
    "# Prática 02\n",
    "\n",
    "![](../../data/imagem/banner-pos-2022.jpg)\n",
    "\n",
    "-----------\n",
    "\n",
    "**Objetivo:**\n",
    "\n",
    "Praticar a manipulação de imagens no espaço de cores HSV (Hue, Saturation, Value) e analisar histogramas para extrair informações visuais relevantes.\n",
    "\n",
    "**Instruções:**\n",
    "\n",
    "Complete o código abaixo realizando as tarefas solicitadas nos comentários. Certifique-se de entender cada operação realizada."
   ]
  },
  {
   "cell_type": "code",
   "execution_count": null,
   "id": "25d3326d",
   "metadata": {},
   "outputs": [],
   "source": [
    "import os\n",
    "import cv2\n",
    "import numpy as np\n",
    "import matplotlib.pyplot as plt"
   ]
  },
  {
   "cell_type": "markdown",
   "id": "1904880f",
   "metadata": {},
   "source": [
    "### 1. Conversão para HSV e Análise de Canais\n",
    "\n",
    "**Tarefas:**\n",
    "* Carregue a imagem colorida (**lenna_250.png**).\n",
    "* Converta a imagem de BGR para HSV usando cv2.cvtColor().\n",
    "* Separe os canais HSV (Hue, Saturation, Value) e exiba cada um em escala de cinza usando a biblioteca matplotlib."
   ]
  },
  {
   "cell_type": "code",
   "execution_count": null,
   "id": "6bb60425",
   "metadata": {},
   "outputs": [],
   "source": [
    "# Carregar imagem\n",
    "image = ...\n",
    "\n",
    "# Converter para RGB\n",
    "image_rgb = ...\n",
    "\n",
    "# Converter para HSV\n",
    "image_hsv = ...\n",
    "\n",
    "# Separar canais HSV\n",
    "h, s, v = ...\n",
    "\n",
    "# Exibir canais\n",
    "fig, axs = plt.subplots(1, 4, figsize=(15, 5))\n",
    "\n",
    "ax[0].imshow(h, cmap='gray')\n",
    "ax[0].set_title('Canal H')\n",
    "ax[0].axis('off')\n",
    "\n",
    "ax[1].imshow(s, cmap='gray')\n",
    "ax[1].set_title('Canal S')\n",
    "ax[1].axis('off')\n",
    "\n",
    "ax[2].imshow(v, cmap='gray')\n",
    "ax[2].set_title('Canal V')\n",
    "ax[2].axis('off')\n",
    "\n",
    "ax[3].imshow(image_rgb)\n",
    "ax[3].set_title('Imagem Original')\n",
    "ax[3].axis('off')\n",
    "    \n",
    "plt.show()"
   ]
  },
  {
   "cell_type": "markdown",
   "id": "133f7bcc",
   "metadata": {},
   "source": [
    "**Continuação do problema 1.**\n",
    "\n",
    "* Modifique apenas o canal Saturation (S) com +30% do seu valor e reconverter para RGB\n",
    "* Exiba o resultado da imagem modificado com a imagem original. "
   ]
  },
  {
   "cell_type": "code",
   "execution_count": null,
   "id": "e10a5a4b",
   "metadata": {},
   "outputs": [],
   "source": []
  },
  {
   "cell_type": "code",
   "execution_count": null,
   "id": "59623646",
   "metadata": {},
   "outputs": [],
   "source": []
  },
  {
   "cell_type": "markdown",
   "id": "dc4a5d30",
   "metadata": {},
   "source": [
    "### 2. Análise de Histogramas\n",
    "\n",
    "**Tarefas:**\n",
    "\n",
    "* Calcule o histograma do canal Hue (H) usando `cv2.calcHist()`.\n",
    "* Plote o histograma usando matplotlib.\n",
    "* Identifique picos no histograma (cores dominantes).\n",
    "* Compare o histograma de Hue (HSV) com o histograma do canal Blue (RGB).\n",
    "\n",
    "*Obs.: Utilize a imagem carregada do enunciado anterior (**lenna_250.png**)*"
   ]
  },
  {
   "cell_type": "code",
   "execution_count": null,
   "metadata": {},
   "outputs": [],
   "source": [
    "# Calcular histograma do canal Hue\n",
    "hist_hue = ...\n",
    "\n",
    "# Plotar histograma\n",
    "plt.plot(hist_hue, color='r')  \n",
    "plt.title(\"Histograma do Canal Hue (Matiz)\")  \n",
    "plt.xlabel(\"Valores de Hue (0-180)\")  \n",
    "plt.ylabel(\"Frequência\")  \n",
    "plt.show()  \n",
    "\n",
    "# Histograma do canal Blue (RGB)\n",
    "blue_channel = ...\n",
    "hist_blue = cv2.calcHist([blue_channel], [0], None, [256], [0, 256])  \n",
    "\n",
    "plt.plot(hist_blue, color='b')  \n",
    "plt.title(\"Histograma do Canal Blue (BGR)\")  \n",
    "plt.show()"
   ]
  },
  {
   "cell_type": "markdown",
   "id": "08ebfdc6",
   "metadata": {},
   "source": [
    "### 3. Equalização de Histograma em Imagens Monocromáticas\n",
    "\n",
    "**Objetivo:**\n",
    "\n",
    "Praticar a manipulação de histogramas para melhorar o contraste em imagens em tons de cinza, compreendendo o impacto visual da equalização.\n",
    "\n",
    "**Tarefas:**\n",
    "\n",
    "* Carregue uma imagem (**lena_cinza.png**) em escala de cinza..\n",
    "* Calcule e plote o histograma original usando `cv2.calcHist()` e matplotlib, respectivamente.\n",
    "* Aplique equalização de histograma usando `cv2.equalizeHist()`.\n",
    "* Plote o histograma equalizado e compare sua distribuição com o original.\n",
    "* Exiba a imagem antes e depois da equalização."
   ]
  },
  {
   "cell_type": "code",
   "execution_count": null,
   "id": "07e7d2ce",
   "metadata": {},
   "outputs": [],
   "source": []
  },
  {
   "cell_type": "code",
   "execution_count": null,
   "metadata": {},
   "outputs": [],
   "source": []
  },
  {
   "cell_type": "markdown",
   "id": "07699e15",
   "metadata": {},
   "source": [
    "### 4. Equalização de Histograma em Imagens Coloridas no Espaço HSV\n",
    "\n",
    "**Objetivo**\n",
    "\n",
    "Praticar a equalização de histograma em imagens coloridas preservando as informações de cor, através da manipulação do canal de intensidade (Value) no espaço HSV.\n",
    "\n",
    "**Tarefas**\n",
    "\n",
    "* Carregamento e Visualização Inicial\n",
    "    * Carregue a imagem **lenna_250.png** usando OpenCV.\n",
    "    * Converta a imagem BGR para RGB.\n",
    "    * Exiba a imagem convertida RGB e seu histograma nos canais R, G e B.\n",
    "\n",
    "* Conversão para Espaço HSV\n",
    "    * Converta a imagem RGB para o espaço de cores HSV.    \n",
    "\n",
    "* Equalização do Canal V (Value)\n",
    "    * Equalize apenas o canal V (intensidade/luminância) usando cv2.equalizeHist().\n",
    "    * Converta a imagem de volta para RGB após a equalização.\n",
    "\n",
    "* Visualização dos Resultados\n",
    "    * Exiba a imagem convertida RGB equalizada e seu respectivo histograma nos canais R, G e B."
   ]
  },
  {
   "cell_type": "code",
   "execution_count": null,
   "id": "a4ac1b0a",
   "metadata": {},
   "outputs": [],
   "source": [
    "## Carregamento e Visualização Inicial ##\n",
    "\n",
    "# Carregar imagem\n",
    "image = ...\n",
    "\n",
    "# Converter para RGB\n",
    "image_rgb = ...\n",
    "\n",
    "# Sepera os canais RGB\n",
    "r, g, b = ...\n",
    "\n",
    "# Exibe a imagem convertida RGB e seu histograma nos canais R, G e B.\n"
   ]
  },
  {
   "cell_type": "code",
   "execution_count": null,
   "id": "f6376929",
   "metadata": {},
   "outputs": [],
   "source": [
    "## Conversão para Espaço HSV ##\n",
    "\n",
    "# Converter para HSV\n",
    "image_hsv = ...\n",
    "\n",
    "# Separar canais HSV\n",
    "h, s, v = ...\n",
    "\n",
    "# Equalizar o canal V\n",
    "v_eq = ...\n",
    "\n",
    "# Converta a imagem de volta para RGB após a equalização.\n"
   ]
  },
  {
   "cell_type": "code",
   "execution_count": null,
   "metadata": {},
   "outputs": [],
   "source": [
    "# Exibe a imagem convertida RGB \n",
    "\n",
    "# Separa os canais RGB da imagem equalizada\n",
    "r_eq, g_eq, b_eq = ...\n",
    "\n",
    "# Exibe o histograma nos canais R, G e B."
   ]
  }
 ],
 "metadata": {
  "kernelspec": {
   "display_name": "curso_visao_computacional",
   "language": "python",
   "name": "python3"
  },
  "language_info": {
   "name": "python",
   "version": "3.9.5"
  }
 },
 "nbformat": 4,
 "nbformat_minor": 5
}
