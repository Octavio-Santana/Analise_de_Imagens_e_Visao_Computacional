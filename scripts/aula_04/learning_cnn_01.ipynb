{
 "cells": [
  {
   "cell_type": "markdown",
   "id": "9b078827",
   "metadata": {},
   "source": [
    "# Treinando uma CNN simples com o dataset MNIST\n",
    "\n",
    "### Objetivo\n",
    "\n",
    "Neste material, vamos implementar uma Rede Neural Convolucional (CNN) usando TensorFlow/Keras para classificação de dígitos escritos à mão utilizando o dataset MNIST.\n",
    "\n",
    "O MNIST é um dataset fundamental para aprendizado em visão computacional, contendo imagens de dígitos manuscritos (0-9) em escala de cinza, com 60.000 imagens de treino e 10.000 de teste."
   ]
  },
  {
   "cell_type": "markdown",
   "id": "d955dbdb",
   "metadata": {},
   "source": [
    "# Carregamento e Pré-processamento do Dataset (MNIST)"
   ]
  },
  {
   "cell_type": "code",
   "execution_count": 2,
   "id": "e707e961",
   "metadata": {},
   "outputs": [],
   "source": [
    "import numpy as np\n",
    "import matplotlib.pyplot as plt\n",
    "\n",
    "import tensorflow as tf\n",
    "from tensorflow.keras.datasets import mnist"
   ]
  },
  {
   "cell_type": "markdown",
   "id": "db7f9b17",
   "metadata": {},
   "source": [
    "**Carregar o dataset MNIST**\n",
    "\n",
    "`load_data()` retorna 4 arrays:\n",
    "\n",
    "* `x_train`: 60,000 imagens 28x28 para treino\n",
    "* `y_train`: 60,000 labels (0-9) correspondentes\n",
    "* `x_test`: 10,000 imagens 28x28 para teste\n",
    "* `y_test`: 10,000 labels para teste"
   ]
  },
  {
   "cell_type": "code",
   "execution_count": null,
   "id": "2a458796",
   "metadata": {},
   "outputs": [],
   "source": [
    "(x_train, y_train), (x_test, y_test) = mnist.load_data()"
   ]
  },
  {
   "cell_type": "markdown",
   "id": "5564542f",
   "metadata": {},
   "source": [
    "**Exibindo Uma imagem por classe**"
   ]
  },
  {
   "cell_type": "code",
   "execution_count": null,
   "id": "983f3a9b",
   "metadata": {},
   "outputs": [
    {
     "data": {
      "image/png": "[encoded data removed]",
      "text/plain": [
       "<Figure size 1500x500 with 10 Axes>"
      ]
     },
     "metadata": {},
     "output_type": "display_data"
    }
   ],
   "source": [
    "classes = np.unique(y_train)\n",
    "fig, axes = plt.subplots(1, len(classes), figsize=(15, 5))\n",
    "\n",
    "for i, cls in enumerate(classes):\n",
    "    idx = np.where(y_train == cls)[0][0]\n",
    "    axes[i].imshow(x_train[idx], cmap='gray')\n",
    "    axes[i].set_title(f'Classe {cls}')\n",
    "    axes[i].axis('off')\n",
    "\n",
    "plt.tight_layout()\n",
    "plt.show()"
   ]
  },
  {
   "cell_type": "markdown",
   "id": "38dc27d9",
   "metadata": {},
   "source": [
    "**Normalizar os pixels para [0, 1]**\n",
    "\n",
    "> Por que dividir por 255?\n",
    "\n",
    "* Valores de pixel originais variam de 0 (preto) a 255 (branco)\n",
    "* Redes neurais trabalham melhor com valores entre 0 e 1\n",
    "* Ajuda na convergência durante o treinamento\n"
   ]
  },
  {
   "cell_type": "code",
   "execution_count": null,
   "id": "1e772768",
   "metadata": {},
   "outputs": [],
   "source": [
    "x_train = x_train / 255.0\n",
    "x_test = x_test / 255.0"
   ]
  },
  {
   "cell_type": "markdown",
   "id": "5f870ed0",
   "metadata": {},
   "source": [
    "**Redimensionar para incluir o canal de cor (1 canal, pois é grayscale)**\n",
    "\n",
    "> Explicação do reshape:\n",
    "* -1: Mantém o número original de amostras\n",
    "* 28, 28: Dimensões altura/largura\n",
    "* 1: Canal de cor (escala de cinza)\n",
    "* Formato necessário para camadas Conv2D no TensorFlow\n",
    "\n",
    "**Antes do reshape**\n",
    "```python\n",
    "x_train.shape # (60000, 28, 28)\n",
    "```\n",
    "\n",
    "**Após do reshape**\n",
    "```python\n",
    "x_train.shape # (60000, 28, 28, 1)\n",
    "```"
   ]
  },
  {
   "cell_type": "code",
   "execution_count": null,
   "id": "71a55efb",
   "metadata": {},
   "outputs": [],
   "source": [
    "x_train = x_train.reshape(-1, 28, 28, 1)\n",
    "x_test = x_test.reshape(-1, 28, 28, 1)"
   ]
  },
  {
   "cell_type": "markdown",
   "id": "f5c76493",
   "metadata": {},
   "source": [
    "**Converter labels para one-hot encoding (opcional, mas útil para redes com softmax)**\n",
    "\n",
    "**O que isso faz?**\n",
    "\n",
    "* Converte labels numéricos em vetores binários:\n",
    "    * Ex: 3 → [0, 0, 0, 1, 0, 0, 0, 0, 0, 0]\n",
    "* Necessário quando:\n",
    "    * Usamos categorical_crossentropy como loss function\n",
    "    * A saída da rede tem 10 neurônios (Softmax)\n",
    "\n",
    "* Alternativa (se não usar one-hot):\n",
    "    * Usar sparse_categorical_crossentropy e manter labels como inteiros\n"
   ]
  },
  {
   "cell_type": "code",
   "execution_count": null,
   "id": "3551e894",
   "metadata": {},
   "outputs": [],
   "source": [
    "y_train = tf.keras.utils.to_categorical(y_train, 10)\n",
    "y_test = tf.keras.utils.to_categorical(y_test, 10)"
   ]
  },
  {
   "cell_type": "markdown",
   "id": "60512307",
   "metadata": {},
   "source": [
    "# Construção da CNN com TensorFlow/Keras\n",
    "\n",
    "Vamos criar uma CNN simples com:\n",
    "\n",
    "* Camadas Convolucionais (Conv2D) para extração de features.\n",
    "* Camadas de Pooling (MaxPooling2D) para redução dimensional.\n",
    "* Camadas Densas (Dense) para classificação."
   ]
  },
  {
   "cell_type": "code",
   "execution_count": 9,
   "metadata": {},
   "outputs": [],
   "source": [
    "from tensorflow.keras.models import Sequential\n",
    "from tensorflow.keras.layers import Conv2D, MaxPooling2D, Flatten, Dense, Input"
   ]
  },
  {
   "cell_type": "code",
   "execution_count": 10,
   "id": "b89519d6",
   "metadata": {},
   "outputs": [],
   "source": [
    "# Definir o modelo CNN\n",
    "model = Sequential(name='MNIST_CNN')\n",
    "\n",
    "# Camada de entrada\n",
    "model.add(\n",
    "    Input(shape=(28, 28, 1), name='input_layer')\n",
    ")"
   ]
  },
  {
   "cell_type": "code",
   "execution_count": 11,
   "id": "c9d165e6",
   "metadata": {},
   "outputs": [
    {
     "name": "stderr",
     "output_type": "stream",
     "text": [
      "2025-05-20 10:15:17.457098: E external/local_xla/xla/stream_executor/cuda/cuda_platform.cc:51] failed call to cuInit: INTERNAL: CUDA error: Failed call to cuInit: UNKNOWN ERROR (303)\n"
     ]
    }
   ],
   "source": [
    "# Primeira camada convolucional\n",
    "model.add(\n",
    "    Conv2D(\n",
    "            filters=32,  # Número de filtros\n",
    "            kernel_size=(5, 5),  # Tamanho do filtro\n",
    "            activation='relu',  # Função de ativação\n",
    "            name='conv1',  # Nome da camada\n",
    "        )\n",
    ")\n",
    "\n",
    "# Camada de pooling\n",
    "model.add(\n",
    "    MaxPooling2D(\n",
    "            pool_size=(2, 2),  # Tamanho do pooling\n",
    "            name='pool1',  # Nome da camada\n",
    "        )\n",
    ")"
   ]
  },
  {
   "cell_type": "code",
   "execution_count": 12,
   "id": "9ae7f085",
   "metadata": {},
   "outputs": [],
   "source": [
    "# Segunda camada convolucional\n",
    "model.add(\n",
    "    Conv2D(\n",
    "            filters=64,  # Número de filtros\n",
    "            kernel_size=(5, 5),  # Tamanho do filtro\n",
    "            activation='relu',  # Função de ativação\n",
    "            name='conv2',  # Nome da camada\n",
    "        )\n",
    ")\n",
    "\n",
    "# Segunda camada de pooling\n",
    "model.add(\n",
    "    MaxPooling2D(\n",
    "            pool_size=(2, 2),  # Tamanho do pooling\n",
    "            name='pool2',  # Nome da camada\n",
    "        )\n",
    ")"
   ]
  },
  {
   "cell_type": "code",
   "execution_count": 13,
   "id": "d386a93c",
   "metadata": {},
   "outputs": [],
   "source": [
    "# Flattening\n",
    "model.add(\n",
    "    Flatten(name='flatten')  # Achata a saída para um vetor\n",
    ")\n",
    "# Camada densa\n",
    "model.add(\n",
    "    Dense(\n",
    "            units=128,  # Número de neurônios\n",
    "            activation='relu',  # Função de ativação\n",
    "            name='dense1',  # Nome da camada\n",
    "        )\n",
    ")\n",
    "# Camada de saída\n",
    "model.add(\n",
    "    Dense(\n",
    "            units=10,  # Número de classes\n",
    "            activation='softmax',  # Função de ativação para classificação\n",
    "            name='output_layer',  # Nome da camada\n",
    "        )\n",
    ")"
   ]
  },
  {
   "cell_type": "code",
   "execution_count": 14,
   "id": "9280a85b",
   "metadata": {},
   "outputs": [
    {
     "data": {
      "text/html": [
       "<pre style=\"white-space:pre;overflow-x:auto;line-height:normal;font-family:Menlo,'DejaVu Sans Mono',consolas,'Courier New',monospace\"><span style=\"font-weight: bold\">Model: \"MNIST_CNN\"</span>\n",
       "</pre>\n"
      ],
      "text/plain": [
       "\u001b[1mModel: \"MNIST_CNN\"\u001b[0m\n"
      ]
     },
     "metadata": {},
     "output_type": "display_data"
    },
    {
     "data": {
      "text/html": [
       "<pre style=\"white-space:pre;overflow-x:auto;line-height:normal;font-family:Menlo,'DejaVu Sans Mono',consolas,'Courier New',monospace\">┏━━━━━━━━━━━━━━━━━━━━━━━━━━━━━━━━━┳━━━━━━━━━━━━━━━━━━━━━━━━┳━━━━━━━━━━━━━━━┓\n",
       "┃<span style=\"font-weight: bold\"> Layer (type)                    </span>┃<span style=\"font-weight: bold\"> Output Shape           </span>┃<span style=\"font-weight: bold\">       Param # </span>┃\n",
       "┡━━━━━━━━━━━━━━━━━━━━━━━━━━━━━━━━━╇━━━━━━━━━━━━━━━━━━━━━━━━╇━━━━━━━━━━━━━━━┩\n",
       "│ conv1 (<span style=\"color: #0087ff; text-decoration-color: #0087ff\">Conv2D</span>)                  │ (<span style=\"color: #00d7ff; text-decoration-color: #00d7ff\">None</span>, <span style=\"color: #00af00; text-decoration-color: #00af00\">24</span>, <span style=\"color: #00af00; text-decoration-color: #00af00\">24</span>, <span style=\"color: #00af00; text-decoration-color: #00af00\">32</span>)     │           <span style=\"color: #00af00; text-decoration-color: #00af00\">832</span> │\n",
       "├─────────────────────────────────┼────────────────────────┼───────────────┤\n",
       "│ pool1 (<span style=\"color: #0087ff; text-decoration-color: #0087ff\">MaxPooling2D</span>)            │ (<span style=\"color: #00d7ff; text-decoration-color: #00d7ff\">None</span>, <span style=\"color: #00af00; text-decoration-color: #00af00\">12</span>, <span style=\"color: #00af00; text-decoration-color: #00af00\">12</span>, <span style=\"color: #00af00; text-decoration-color: #00af00\">32</span>)     │             <span style=\"color: #00af00; text-decoration-color: #00af00\">0</span> │\n",
       "├─────────────────────────────────┼────────────────────────┼───────────────┤\n",
       "│ conv2 (<span style=\"color: #0087ff; text-decoration-color: #0087ff\">Conv2D</span>)                  │ (<span style=\"color: #00d7ff; text-decoration-color: #00d7ff\">None</span>, <span style=\"color: #00af00; text-decoration-color: #00af00\">8</span>, <span style=\"color: #00af00; text-decoration-color: #00af00\">8</span>, <span style=\"color: #00af00; text-decoration-color: #00af00\">64</span>)       │        <span style=\"color: #00af00; text-decoration-color: #00af00\">51,264</span> │\n",
       "├─────────────────────────────────┼────────────────────────┼───────────────┤\n",
       "│ pool2 (<span style=\"color: #0087ff; text-decoration-color: #0087ff\">MaxPooling2D</span>)            │ (<span style=\"color: #00d7ff; text-decoration-color: #00d7ff\">None</span>, <span style=\"color: #00af00; text-decoration-color: #00af00\">4</span>, <span style=\"color: #00af00; text-decoration-color: #00af00\">4</span>, <span style=\"color: #00af00; text-decoration-color: #00af00\">64</span>)       │             <span style=\"color: #00af00; text-decoration-color: #00af00\">0</span> │\n",
       "├─────────────────────────────────┼────────────────────────┼───────────────┤\n",
       "│ flatten (<span style=\"color: #0087ff; text-decoration-color: #0087ff\">Flatten</span>)               │ (<span style=\"color: #00d7ff; text-decoration-color: #00d7ff\">None</span>, <span style=\"color: #00af00; text-decoration-color: #00af00\">1024</span>)           │             <span style=\"color: #00af00; text-decoration-color: #00af00\">0</span> │\n",
       "├─────────────────────────────────┼────────────────────────┼───────────────┤\n",
       "│ dense1 (<span style=\"color: #0087ff; text-decoration-color: #0087ff\">Dense</span>)                  │ (<span style=\"color: #00d7ff; text-decoration-color: #00d7ff\">None</span>, <span style=\"color: #00af00; text-decoration-color: #00af00\">128</span>)            │       <span style=\"color: #00af00; text-decoration-color: #00af00\">131,200</span> │\n",
       "├─────────────────────────────────┼────────────────────────┼───────────────┤\n",
       "│ output_layer (<span style=\"color: #0087ff; text-decoration-color: #0087ff\">Dense</span>)            │ (<span style=\"color: #00d7ff; text-decoration-color: #00d7ff\">None</span>, <span style=\"color: #00af00; text-decoration-color: #00af00\">10</span>)             │         <span style=\"color: #00af00; text-decoration-color: #00af00\">1,290</span> │\n",
       "└─────────────────────────────────┴────────────────────────┴───────────────┘\n",
       "</pre>\n"
      ],
      "text/plain": [
       "┏━━━━━━━━━━━━━━━━━━━━━━━━━━━━━━━━━┳━━━━━━━━━━━━━━━━━━━━━━━━┳━━━━━━━━━━━━━━━┓\n",
       "┃\u001b[1m \u001b[0m\u001b[1mLayer (type)                   \u001b[0m\u001b[1m \u001b[0m┃\u001b[1m \u001b[0m\u001b[1mOutput Shape          \u001b[0m\u001b[1m \u001b[0m┃\u001b[1m \u001b[0m\u001b[1m      Param #\u001b[0m\u001b[1m \u001b[0m┃\n",
       "┡━━━━━━━━━━━━━━━━━━━━━━━━━━━━━━━━━╇━━━━━━━━━━━━━━━━━━━━━━━━╇━━━━━━━━━━━━━━━┩\n",
       "│ conv1 (\u001b[38;5;33mConv2D\u001b[0m)                  │ (\u001b[38;5;45mNone\u001b[0m, \u001b[38;5;34m24\u001b[0m, \u001b[38;5;34m24\u001b[0m, \u001b[38;5;34m32\u001b[0m)     │           \u001b[38;5;34m832\u001b[0m │\n",
       "├─────────────────────────────────┼────────────────────────┼───────────────┤\n",
       "│ pool1 (\u001b[38;5;33mMaxPooling2D\u001b[0m)            │ (\u001b[38;5;45mNone\u001b[0m, \u001b[38;5;34m12\u001b[0m, \u001b[38;5;34m12\u001b[0m, \u001b[38;5;34m32\u001b[0m)     │             \u001b[38;5;34m0\u001b[0m │\n",
       "├─────────────────────────────────┼────────────────────────┼───────────────┤\n",
       "│ conv2 (\u001b[38;5;33mConv2D\u001b[0m)                  │ (\u001b[38;5;45mNone\u001b[0m, \u001b[38;5;34m8\u001b[0m, \u001b[38;5;34m8\u001b[0m, \u001b[38;5;34m64\u001b[0m)       │        \u001b[38;5;34m51,264\u001b[0m │\n",
       "├─────────────────────────────────┼────────────────────────┼───────────────┤\n",
       "│ pool2 (\u001b[38;5;33mMaxPooling2D\u001b[0m)            │ (\u001b[38;5;45mNone\u001b[0m, \u001b[38;5;34m4\u001b[0m, \u001b[38;5;34m4\u001b[0m, \u001b[38;5;34m64\u001b[0m)       │             \u001b[38;5;34m0\u001b[0m │\n",
       "├─────────────────────────────────┼────────────────────────┼───────────────┤\n",
       "│ flatten (\u001b[38;5;33mFlatten\u001b[0m)               │ (\u001b[38;5;45mNone\u001b[0m, \u001b[38;5;34m1024\u001b[0m)           │             \u001b[38;5;34m0\u001b[0m │\n",
       "├─────────────────────────────────┼────────────────────────┼───────────────┤\n",
       "│ dense1 (\u001b[38;5;33mDense\u001b[0m)                  │ (\u001b[38;5;45mNone\u001b[0m, \u001b[38;5;34m128\u001b[0m)            │       \u001b[38;5;34m131,200\u001b[0m │\n",
       "├─────────────────────────────────┼────────────────────────┼───────────────┤\n",
       "│ output_layer (\u001b[38;5;33mDense\u001b[0m)            │ (\u001b[38;5;45mNone\u001b[0m, \u001b[38;5;34m10\u001b[0m)             │         \u001b[38;5;34m1,290\u001b[0m │\n",
       "└─────────────────────────────────┴────────────────────────┴───────────────┘\n"
      ]
     },
     "metadata": {},
     "output_type": "display_data"
    },
    {
     "data": {
      "text/html": [
       "<pre style=\"white-space:pre;overflow-x:auto;line-height:normal;font-family:Menlo,'DejaVu Sans Mono',consolas,'Courier New',monospace\"><span style=\"font-weight: bold\"> Total params: </span><span style=\"color: #00af00; text-decoration-color: #00af00\">184,586</span> (721.04 KB)\n",
       "</pre>\n"
      ],
      "text/plain": [
       "\u001b[1m Total params: \u001b[0m\u001b[38;5;34m184,586\u001b[0m (721.04 KB)\n"
      ]
     },
     "metadata": {},
     "output_type": "display_data"
    },
    {
     "data": {
      "text/html": [
       "<pre style=\"white-space:pre;overflow-x:auto;line-height:normal;font-family:Menlo,'DejaVu Sans Mono',consolas,'Courier New',monospace\"><span style=\"font-weight: bold\"> Trainable params: </span><span style=\"color: #00af00; text-decoration-color: #00af00\">184,586</span> (721.04 KB)\n",
       "</pre>\n"
      ],
      "text/plain": [
       "\u001b[1m Trainable params: \u001b[0m\u001b[38;5;34m184,586\u001b[0m (721.04 KB)\n"
      ]
     },
     "metadata": {},
     "output_type": "display_data"
    },
    {
     "data": {
      "text/html": [
       "<pre style=\"white-space:pre;overflow-x:auto;line-height:normal;font-family:Menlo,'DejaVu Sans Mono',consolas,'Courier New',monospace\"><span style=\"font-weight: bold\"> Non-trainable params: </span><span style=\"color: #00af00; text-decoration-color: #00af00\">0</span> (0.00 B)\n",
       "</pre>\n"
      ],
      "text/plain": [
       "\u001b[1m Non-trainable params: \u001b[0m\u001b[38;5;34m0\u001b[0m (0.00 B)\n"
      ]
     },
     "metadata": {},
     "output_type": "display_data"
    }
   ],
   "source": [
    "model.summary()"
   ]
  },
  {
   "cell_type": "code",
   "execution_count": 15,
   "id": "53dbadfa",
   "metadata": {},
   "outputs": [],
   "source": [
    "# model.compile(optimizer='adam',\n",
    "#               loss='categorical_crossentropy',\n",
    "#               metrics=['accuracy'])\n",
    "\n",
    "optimizer = tf.keras.optimizers.Adam(learning_rate=0.0001)\n",
    "model.compile(optimizer=optimizer,\n",
    "              loss='categorical_crossentropy',\n",
    "              metrics=['accuracy'])\n"
   ]
  },
  {
   "cell_type": "markdown",
   "id": "90583354",
   "metadata": {},
   "source": [
    "# Treinamento e Validação"
   ]
  },
  {
   "cell_type": "code",
   "execution_count": 16,
   "id": "89e73f0a",
   "metadata": {},
   "outputs": [
    {
     "name": "stdout",
     "output_type": "stream",
     "text": [
      "Epoch 1/30\n"
     ]
    },
    {
     "name": "stderr",
     "output_type": "stream",
     "text": [
      "2025-05-20 10:15:33.902071: W external/local_xla/xla/tsl/framework/cpu_allocator_impl.cc:83] Allocation of 188160000 exceeds 10% of free system memory.\n"
     ]
    },
    {
     "name": "stdout",
     "output_type": "stream",
     "text": [
      "\u001b[1m938/938\u001b[0m \u001b[32m━━━━━━━━━━━━━━━━━━━━\u001b[0m\u001b[37m\u001b[0m \u001b[1m31s\u001b[0m 31ms/step - accuracy: 0.4122 - loss: 1.9734 - val_accuracy: 0.8212 - val_loss: 0.6164\n",
      "Epoch 2/30\n",
      "\u001b[1m938/938\u001b[0m \u001b[32m━━━━━━━━━━━━━━━━━━━━\u001b[0m\u001b[37m\u001b[0m \u001b[1m29s\u001b[0m 31ms/step - accuracy: 0.8304 - loss: 0.5809 - val_accuracy: 0.8696 - val_loss: 0.4422\n",
      "Epoch 3/30\n",
      "\u001b[1m938/938\u001b[0m \u001b[32m━━━━━━━━━━━━━━━━━━━━\u001b[0m\u001b[37m\u001b[0m \u001b[1m29s\u001b[0m 31ms/step - accuracy: 0.8690 - loss: 0.4409 - val_accuracy: 0.8903 - val_loss: 0.3653\n",
      "Epoch 4/30\n",
      "\u001b[1m938/938\u001b[0m \u001b[32m━━━━━━━━━━━━━━━━━━━━\u001b[0m\u001b[37m\u001b[0m \u001b[1m29s\u001b[0m 31ms/step - accuracy: 0.8890 - loss: 0.3699 - val_accuracy: 0.9060 - val_loss: 0.3118\n",
      "Epoch 5/30\n",
      "\u001b[1m938/938\u001b[0m \u001b[32m━━━━━━━━━━━━━━━━━━━━\u001b[0m\u001b[37m\u001b[0m \u001b[1m29s\u001b[0m 30ms/step - accuracy: 0.9030 - loss: 0.3205 - val_accuracy: 0.9151 - val_loss: 0.2743\n",
      "Epoch 6/30\n",
      "\u001b[1m938/938\u001b[0m \u001b[32m━━━━━━━━━━━━━━━━━━━━\u001b[0m\u001b[37m\u001b[0m \u001b[1m26s\u001b[0m 28ms/step - accuracy: 0.9151 - loss: 0.2832 - val_accuracy: 0.9260 - val_loss: 0.2374\n",
      "Epoch 7/30\n",
      "\u001b[1m938/938\u001b[0m \u001b[32m━━━━━━━━━━━━━━━━━━━━\u001b[0m\u001b[37m\u001b[0m \u001b[1m26s\u001b[0m 28ms/step - accuracy: 0.9249 - loss: 0.2483 - val_accuracy: 0.9323 - val_loss: 0.2145\n",
      "Epoch 8/30\n",
      "\u001b[1m938/938\u001b[0m \u001b[32m━━━━━━━━━━━━━━━━━━━━\u001b[0m\u001b[37m\u001b[0m \u001b[1m26s\u001b[0m 27ms/step - accuracy: 0.9298 - loss: 0.2291 - val_accuracy: 0.9403 - val_loss: 0.1973\n",
      "Epoch 9/30\n",
      "\u001b[1m938/938\u001b[0m \u001b[32m━━━━━━━━━━━━━━━━━━━━\u001b[0m\u001b[37m\u001b[0m \u001b[1m26s\u001b[0m 27ms/step - accuracy: 0.9383 - loss: 0.2017 - val_accuracy: 0.9447 - val_loss: 0.1720\n",
      "Epoch 10/30\n",
      "\u001b[1m938/938\u001b[0m \u001b[32m━━━━━━━━━━━━━━━━━━━━\u001b[0m\u001b[37m\u001b[0m \u001b[1m26s\u001b[0m 28ms/step - accuracy: 0.9443 - loss: 0.1813 - val_accuracy: 0.9537 - val_loss: 0.1527\n",
      "Epoch 11/30\n",
      "\u001b[1m938/938\u001b[0m \u001b[32m━━━━━━━━━━━━━━━━━━━━\u001b[0m\u001b[37m\u001b[0m \u001b[1m30s\u001b[0m 32ms/step - accuracy: 0.9485 - loss: 0.1711 - val_accuracy: 0.9574 - val_loss: 0.1409\n",
      "Epoch 12/30\n",
      "\u001b[1m938/938\u001b[0m \u001b[32m━━━━━━━━━━━━━━━━━━━━\u001b[0m\u001b[37m\u001b[0m \u001b[1m30s\u001b[0m 32ms/step - accuracy: 0.9541 - loss: 0.1532 - val_accuracy: 0.9609 - val_loss: 0.1305\n",
      "Epoch 13/30\n",
      "\u001b[1m938/938\u001b[0m \u001b[32m━━━━━━━━━━━━━━━━━━━━\u001b[0m\u001b[37m\u001b[0m \u001b[1m29s\u001b[0m 31ms/step - accuracy: 0.9581 - loss: 0.1386 - val_accuracy: 0.9630 - val_loss: 0.1190\n",
      "Epoch 14/30\n",
      "\u001b[1m938/938\u001b[0m \u001b[32m━━━━━━━━━━━━━━━━━━━━\u001b[0m\u001b[37m\u001b[0m \u001b[1m31s\u001b[0m 33ms/step - accuracy: 0.9602 - loss: 0.1298 - val_accuracy: 0.9629 - val_loss: 0.1181\n",
      "Epoch 15/30\n",
      "\u001b[1m938/938\u001b[0m \u001b[32m━━━━━━━━━━━━━━━━━━━━\u001b[0m\u001b[37m\u001b[0m \u001b[1m27s\u001b[0m 29ms/step - accuracy: 0.9625 - loss: 0.1231 - val_accuracy: 0.9679 - val_loss: 0.1036\n",
      "Epoch 16/30\n",
      "\u001b[1m938/938\u001b[0m \u001b[32m━━━━━━━━━━━━━━━━━━━━\u001b[0m\u001b[37m\u001b[0m \u001b[1m30s\u001b[0m 32ms/step - accuracy: 0.9646 - loss: 0.1138 - val_accuracy: 0.9701 - val_loss: 0.0965\n",
      "Epoch 17/30\n",
      "\u001b[1m938/938\u001b[0m \u001b[32m━━━━━━━━━━━━━━━━━━━━\u001b[0m\u001b[37m\u001b[0m \u001b[1m29s\u001b[0m 31ms/step - accuracy: 0.9673 - loss: 0.1064 - val_accuracy: 0.9716 - val_loss: 0.0906\n",
      "Epoch 18/30\n",
      "\u001b[1m938/938\u001b[0m \u001b[32m━━━━━━━━━━━━━━━━━━━━\u001b[0m\u001b[37m\u001b[0m \u001b[1m29s\u001b[0m 31ms/step - accuracy: 0.9688 - loss: 0.1013 - val_accuracy: 0.9735 - val_loss: 0.0864\n",
      "Epoch 19/30\n",
      "\u001b[1m938/938\u001b[0m \u001b[32m━━━━━━━━━━━━━━━━━━━━\u001b[0m\u001b[37m\u001b[0m \u001b[1m31s\u001b[0m 33ms/step - accuracy: 0.9709 - loss: 0.0952 - val_accuracy: 0.9740 - val_loss: 0.0839\n",
      "Epoch 20/30\n",
      "\u001b[1m938/938\u001b[0m \u001b[32m━━━━━━━━━━━━━━━━━━━━\u001b[0m\u001b[37m\u001b[0m \u001b[1m28s\u001b[0m 30ms/step - accuracy: 0.9708 - loss: 0.0940 - val_accuracy: 0.9739 - val_loss: 0.0832\n",
      "Epoch 21/30\n",
      "\u001b[1m938/938\u001b[0m \u001b[32m━━━━━━━━━━━━━━━━━━━━\u001b[0m\u001b[37m\u001b[0m \u001b[1m29s\u001b[0m 31ms/step - accuracy: 0.9735 - loss: 0.0869 - val_accuracy: 0.9766 - val_loss: 0.0766\n",
      "Epoch 22/30\n",
      "\u001b[1m938/938\u001b[0m \u001b[32m━━━━━━━━━━━━━━━━━━━━\u001b[0m\u001b[37m\u001b[0m \u001b[1m31s\u001b[0m 33ms/step - accuracy: 0.9736 - loss: 0.0842 - val_accuracy: 0.9773 - val_loss: 0.0736\n",
      "Epoch 23/30\n",
      "\u001b[1m938/938\u001b[0m \u001b[32m━━━━━━━━━━━━━━━━━━━━\u001b[0m\u001b[37m\u001b[0m \u001b[1m33s\u001b[0m 35ms/step - accuracy: 0.9749 - loss: 0.0820 - val_accuracy: 0.9784 - val_loss: 0.0710\n",
      "Epoch 24/30\n",
      "\u001b[1m938/938\u001b[0m \u001b[32m━━━━━━━━━━━━━━━━━━━━\u001b[0m\u001b[37m\u001b[0m \u001b[1m30s\u001b[0m 31ms/step - accuracy: 0.9774 - loss: 0.0748 - val_accuracy: 0.9785 - val_loss: 0.0687\n",
      "Epoch 25/30\n",
      "\u001b[1m938/938\u001b[0m \u001b[32m━━━━━━━━━━━━━━━━━━━━\u001b[0m\u001b[37m\u001b[0m \u001b[1m31s\u001b[0m 33ms/step - accuracy: 0.9778 - loss: 0.0716 - val_accuracy: 0.9793 - val_loss: 0.0664\n",
      "Epoch 26/30\n",
      "\u001b[1m938/938\u001b[0m \u001b[32m━━━━━━━━━━━━━━━━━━━━\u001b[0m\u001b[37m\u001b[0m \u001b[1m30s\u001b[0m 32ms/step - accuracy: 0.9773 - loss: 0.0711 - val_accuracy: 0.9793 - val_loss: 0.0671\n",
      "Epoch 27/30\n",
      "\u001b[1m938/938\u001b[0m \u001b[32m━━━━━━━━━━━━━━━━━━━━\u001b[0m\u001b[37m\u001b[0m \u001b[1m31s\u001b[0m 33ms/step - accuracy: 0.9786 - loss: 0.0699 - val_accuracy: 0.9807 - val_loss: 0.0624\n",
      "Epoch 28/30\n",
      "\u001b[1m938/938\u001b[0m \u001b[32m━━━━━━━━━━━━━━━━━━━━\u001b[0m\u001b[37m\u001b[0m \u001b[1m31s\u001b[0m 33ms/step - accuracy: 0.9800 - loss: 0.0649 - val_accuracy: 0.9808 - val_loss: 0.0612\n",
      "Epoch 29/30\n",
      "\u001b[1m938/938\u001b[0m \u001b[32m━━━━━━━━━━━━━━━━━━━━\u001b[0m\u001b[37m\u001b[0m \u001b[1m31s\u001b[0m 33ms/step - accuracy: 0.9807 - loss: 0.0638 - val_accuracy: 0.9817 - val_loss: 0.0592\n",
      "Epoch 30/30\n",
      "\u001b[1m938/938\u001b[0m \u001b[32m━━━━━━━━━━━━━━━━━━━━\u001b[0m\u001b[37m\u001b[0m \u001b[1m30s\u001b[0m 32ms/step - accuracy: 0.9806 - loss: 0.0628 - val_accuracy: 0.9818 - val_loss: 0.0595\n"
     ]
    }
   ],
   "source": [
    "history = model.fit(\n",
    "    x_train, y_train,\n",
    "    batch_size=64,\n",
    "    epochs=30,\n",
    "    validation_data=(x_test, y_test),\n",
    "    verbose=1\n",
    ")"
   ]
  },
  {
   "cell_type": "code",
   "execution_count": 17,
   "id": "8ee4a413",
   "metadata": {},
   "outputs": [
    {
     "data": {
      "text/plain": [
       "dict_keys(['accuracy', 'loss', 'val_accuracy', 'val_loss'])"
      ]
     },
     "execution_count": 17,
     "metadata": {},
     "output_type": "execute_result"
    }
   ],
   "source": [
    "history.history.keys()"
   ]
  },
  {
   "cell_type": "code",
   "execution_count": 18,
   "id": "1c36b8ca",
   "metadata": {},
   "outputs": [
    {
     "data": {
      "image/png": "[encoded data removed]",
      "text/plain": [
       "<Figure size 1200x500 with 2 Axes>"
      ]
     },
     "metadata": {},
     "output_type": "display_data"
    }
   ],
   "source": [
    "plt.figure(figsize=(12, 5))\n",
    "\n",
    "# Gráfico de Acurácia\n",
    "plt.subplot(1, 2, 1)\n",
    "plt.plot(history.history['accuracy'], label='Train Accuracy')\n",
    "plt.plot(history.history['val_accuracy'], label='Validation Accuracy')\n",
    "plt.title('Evolução da Acurácia')\n",
    "plt.xlabel('Época')\n",
    "plt.ylabel('Acurácia')\n",
    "plt.legend()\n",
    "\n",
    "# Gráfico de Perda\n",
    "plt.subplot(1, 2, 2)\n",
    "plt.plot(history.history['loss'], label='Train Loss')\n",
    "plt.plot(history.history['val_loss'], label='Validation Loss')\n",
    "plt.title('Evolução da Função de Perda')\n",
    "plt.xlabel('Época')\n",
    "plt.ylabel('Loss')\n",
    "plt.legend()\n",
    "plt.show()"
   ]
  },
  {
   "cell_type": "markdown",
   "id": "9e077d52",
   "metadata": {},
   "source": [
    "## Análise dos Gráficos Esperados\n",
    "\n",
    "### Comportamento Ideal:\n",
    "| Gráfico | Treino | Validação | Observação |\n",
    "| ----- | ----- | ----- | ----- |\n",
    "| Acurácia | Aumenta suave até estabilizar | Segue padrão similar ao treino | Diferença < 2-3% |\n",
    "| Perda | Diminui suave até estabilizar\t| Diminui e depois estabiliza | Validação deve parar de melhorar quando treino estabilizar |\n",
    "\n",
    "### Problemas Comuns e Soluções:\n",
    "\n",
    "1. Underfitting (Subajuste):\n",
    "\n",
    "    * Sintomas: Baixa acurácia em ambos treino/validação\n",
    "    * Causas: Modelo muito simples, poucas épocas\n",
    "    * Solução: Aumentar capacidade do modelo ou tempo de treino\n",
    "\n",
    "2. Overfitting (Sobreajuste):\n",
    "\n",
    "    * Sintomas: Acurácia alta no treino mas baixa na validação\n",
    "    * Visualização: Divergência crescente entre curvas\n",
    "    * Soluções:\n",
    "        ```python\n",
    "            model.fit(...,\n",
    "                        callbacks=[tf.keras.callbacks.EarlyStopping(patience=3)],\n",
    "                        )\n",
    "        ```\n",
    "\n",
    "3. Oscilações na Perda:\n",
    "\n",
    "    * Causa: Learning rate muito alto\n",
    "    * Ajuste:\n",
    "        ```python\n",
    "            model.compile(optimizer=tf.keras.optimizers.Adam(learning_rate=0.0001),\n",
    "              ...)\n",
    "        ```"
   ]
  },
  {
   "cell_type": "markdown",
   "id": "ab8cf078",
   "metadata": {},
   "source": [
    "# Avaliação de Desempenho"
   ]
  },
  {
   "cell_type": "code",
   "execution_count": 19,
   "id": "15e0cb9f",
   "metadata": {},
   "outputs": [],
   "source": [
    "from sklearn.metrics import confusion_matrix, classification_report\n",
    "import seaborn as sns"
   ]
  },
  {
   "cell_type": "code",
   "execution_count": 20,
   "id": "f58f6ca8",
   "metadata": {},
   "outputs": [
    {
     "name": "stdout",
     "output_type": "stream",
     "text": [
      "\u001b[1m313/313\u001b[0m \u001b[32m━━━━━━━━━━━━━━━━━━━━\u001b[0m\u001b[37m\u001b[0m \u001b[1m2s\u001b[0m 6ms/step\n"
     ]
    }
   ],
   "source": [
    "# Predição no conjunto de teste\n",
    "y_pred = model.predict(x_test)\n",
    "y_pred_classes = np.argmax(y_pred, axis=1)\n",
    "y_true = np.argmax(y_test, axis=1)"
   ]
  },
  {
   "cell_type": "code",
   "execution_count": 21,
   "id": "1adb7cd3",
   "metadata": {},
   "outputs": [
    {
     "data": {
      "image/png": "[encoded data removed]",
      "text/plain": [
       "<Figure size 1000x800 with 2 Axes>"
      ]
     },
     "metadata": {},
     "output_type": "display_data"
    }
   ],
   "source": [
    "# Matriz de Confusão\n",
    "cm = confusion_matrix(y_true, y_pred_classes)\n",
    "plt.figure(figsize=(10, 8))\n",
    "sns.heatmap(cm, annot=True, fmt='d', cmap='Blues')\n",
    "plt.xlabel('Predicted')\n",
    "plt.ylabel('True')\n",
    "plt.show()"
   ]
  },
  {
   "cell_type": "code",
   "execution_count": 22,
   "id": "a0eda4e6",
   "metadata": {},
   "outputs": [
    {
     "name": "stdout",
     "output_type": "stream",
     "text": [
      "              precision    recall  f1-score   support\n",
      "\n",
      "           0       0.97      0.99      0.98       980\n",
      "           1       0.99      0.99      0.99      1135\n",
      "           2       0.97      0.99      0.98      1032\n",
      "           3       0.98      0.98      0.98      1010\n",
      "           4       0.98      0.99      0.98       982\n",
      "           5       0.98      0.98      0.98       892\n",
      "           6       0.99      0.98      0.99       958\n",
      "           7       0.99      0.97      0.98      1028\n",
      "           8       0.97      0.98      0.98       974\n",
      "           9       0.98      0.97      0.97      1009\n",
      "\n",
      "    accuracy                           0.98     10000\n",
      "   macro avg       0.98      0.98      0.98     10000\n",
      "weighted avg       0.98      0.98      0.98     10000\n",
      "\n"
     ]
    }
   ],
   "source": [
    "# Relatório de Classificação\n",
    "print(classification_report(y_true, y_pred_classes))"
   ]
  },
  {
   "cell_type": "code",
   "execution_count": 24,
   "id": "9d4f5ad1",
   "metadata": {},
   "outputs": [
    {
     "name": "stderr",
     "output_type": "stream",
     "text": [
      "2025-05-20 10:34:01.613163: W external/local_xla/xla/tsl/framework/cpu_allocator_impl.cc:83] Allocation of 188160000 exceeds 10% of free system memory.\n"
     ]
    },
    {
     "name": "stdout",
     "output_type": "stream",
     "text": [
      "Acurácia no Treino: 0.9816\n",
      "Perda no Treino: 0.0600\n",
      "Acurácia no Teste: 0.9818\n",
      "Perda no Teste: 0.0595\n"
     ]
    }
   ],
   "source": [
    "train_loss, train_acc = model.evaluate(x_train, y_train, verbose=0)\n",
    "print(f\"Acurácia no Treino: {train_acc:.4f}\")\n",
    "print(f\"Perda no Treino: {train_loss:.4f}\")\n",
    "\n",
    "test_loss, test_acc = model.evaluate(x_test, y_test, verbose=0)\n",
    "print(f\"Acurácia no Teste: {test_acc:.4f}\")\n",
    "print(f\"Perda no Teste: {test_loss:.4f}\")"
   ]
  },
  {
   "cell_type": "code",
   "execution_count": 25,
   "id": "d6c5f51e",
   "metadata": {},
   "outputs": [
    {
     "name": "stdout",
     "output_type": "stream",
     "text": [
      "A diferença percentual entre a acurácia de treino e teste é 0.02%.\n",
      "O modelo parece estar bem ajustado.\n"
     ]
    }
   ],
   "source": [
    "diff_percentual = abs(train_acc - test_acc) * 100\n",
    "\n",
    "if diff_percentual > 5:\n",
    "    print(f'Warning: A diferença percentual entre a acurácia de treino e teste é {diff_percentual:.2f}%')\n",
    "else:\n",
    "    print(f'A diferença percentual entre a acurácia de treino e teste é {diff_percentual:.2f}%.')\n",
    "    print('O modelo parece estar bem ajustado.')\n"
   ]
  },
  {
   "cell_type": "markdown",
   "id": "27dd8343",
   "metadata": {},
   "source": [
    "# Salvando o modelo"
   ]
  },
  {
   "cell_type": "code",
   "execution_count": 26,
   "metadata": {},
   "outputs": [],
   "source": [
    "import os\n",
    "\n",
    "def save_model(model, name_model=\"model\", path='model'):\n",
    "    \"\"\"\n",
    "    Salva a arquitetura (JSON) e os pesos (HDF5) de um modelo Keras.\n",
    "    \"\"\"\n",
    "    # Cria o diretório se não existir\n",
    "    os.makedirs(path, exist_ok=True)\n",
    "\n",
    "    # Salva arquitetura\n",
    "    model_json = model.to_json()\n",
    "    with open(f\"{path}/{name_model}.json\", \"w\") as json_file:\n",
    "        json_file.write(model_json)\n",
    "\n",
    "    # Salva os pesos no formato recomendado\n",
    "    weights_path = f\"{path}/{name_model}.weights.h5\"\n",
    "    model.save_weights(weights_path)\n",
    "\n",
    "    print(f\"✅ Modelo '{name_model}' salvo com sucesso:\")\n",
    "    print(f\"  • Arquitetura: {path}/{name_model}.json\")\n",
    "    print(f\"  • Pesos:       {weights_path}\")"
   ]
  },
  {
   "cell_type": "code",
   "execution_count": 27,
   "id": "304c8952",
   "metadata": {},
   "outputs": [
    {
     "name": "stdout",
     "output_type": "stream",
     "text": [
      "✅ Modelo 'model_v01' salvo com sucesso:\n",
      "  • Arquitetura: models/model_v01.json\n",
      "  • Pesos:       models/model_v01.weights.h5\n"
     ]
    }
   ],
   "source": [
    "save_model(\n",
    "    model = model,\n",
    "    name_model = \"model_v01\",\n",
    "    path = 'models'\n",
    ")"
   ]
  },
  {
   "cell_type": "markdown",
   "id": "2b0dbbf0",
   "metadata": {},
   "source": [
    "# Carrega o modelo salvo"
   ]
  },
  {
   "cell_type": "code",
   "execution_count": 29,
   "id": "5383998b",
   "metadata": {},
   "outputs": [],
   "source": [
    "from tensorflow.keras.models import model_from_json\n",
    "\n",
    "def load_model(name_model, path='model',\n",
    "               compile_model=True, compile_args=None):\n",
    "    \"\"\"\n",
    "    Carrega um modelo salvo em JSON + pesos .weights.h5.\n",
    "    Opcionalmente compila o modelo ao carregar.\n",
    "    \"\"\"\n",
    "    # Carrega arquitetura\n",
    "    with open(f'{path}/{name_model}.json', 'r') as json_file:\n",
    "        loaded_model_json = json_file.read()\n",
    "\n",
    "    loaded_model = model_from_json(loaded_model_json)\n",
    "\n",
    "    # Carrega pesos\n",
    "    weights_path = f\"{path}/{name_model}.weights.h5\"\n",
    "    loaded_model.load_weights(weights_path)\n",
    "\n",
    "    print(f\"✅ Modelo '{name_model}' carregado com sucesso.\")\n",
    "\n",
    "    # Compila se solicitado\n",
    "    if compile_model:\n",
    "        compile_args = compile_args or {\n",
    "            'optimizer': 'adam',\n",
    "            'loss': 'sparse_categorical_crossentropy',\n",
    "            'metrics': ['accuracy']\n",
    "        }\n",
    "        loaded_model.compile(**compile_args)\n",
    "        print(\"🔧 Modelo compilado.\")\n",
    "\n",
    "    return loaded_model"
   ]
  },
  {
   "cell_type": "code",
   "execution_count": 30,
   "id": "49636572",
   "metadata": {},
   "outputs": [
    {
     "name": "stdout",
     "output_type": "stream",
     "text": [
      "✅ Modelo 'model_v01' carregado com sucesso.\n",
      "🔧 Modelo compilado.\n"
     ]
    }
   ],
   "source": [
    "compile_args = {\n",
    "    'optimizer': tf.keras.optimizers.Adam(learning_rate=0.0001),\n",
    "    'loss': 'sparse_categorical_crossentropy',\n",
    "    'metrics': ['accuracy']\n",
    "}\n",
    "\n",
    "modelo_carregado = load_model(\n",
    "    name_model = 'model_v01',\n",
    "    path = 'models',\n",
    "    compile_model = True,\n",
    "    compile_args = compile_args\n",
    ")"
   ]
  },
  {
   "cell_type": "code",
   "execution_count": 31,
   "metadata": {},
   "outputs": [
    {
     "data": {
      "text/html": [
       "<pre style=\"white-space:pre;overflow-x:auto;line-height:normal;font-family:Menlo,'DejaVu Sans Mono',consolas,'Courier New',monospace\"><span style=\"font-weight: bold\">Model: \"MNIST_CNN\"</span>\n",
       "</pre>\n"
      ],
      "text/plain": [
       "\u001b[1mModel: \"MNIST_CNN\"\u001b[0m\n"
      ]
     },
     "metadata": {},
     "output_type": "display_data"
    },
    {
     "data": {
      "text/html": [
       "<pre style=\"white-space:pre;overflow-x:auto;line-height:normal;font-family:Menlo,'DejaVu Sans Mono',consolas,'Courier New',monospace\">┏━━━━━━━━━━━━━━━━━━━━━━━━━━━━━━━━━┳━━━━━━━━━━━━━━━━━━━━━━━━┳━━━━━━━━━━━━━━━┓\n",
       "┃<span style=\"font-weight: bold\"> Layer (type)                    </span>┃<span style=\"font-weight: bold\"> Output Shape           </span>┃<span style=\"font-weight: bold\">       Param # </span>┃\n",
       "┡━━━━━━━━━━━━━━━━━━━━━━━━━━━━━━━━━╇━━━━━━━━━━━━━━━━━━━━━━━━╇━━━━━━━━━━━━━━━┩\n",
       "│ conv1 (<span style=\"color: #0087ff; text-decoration-color: #0087ff\">Conv2D</span>)                  │ (<span style=\"color: #00d7ff; text-decoration-color: #00d7ff\">None</span>, <span style=\"color: #00af00; text-decoration-color: #00af00\">24</span>, <span style=\"color: #00af00; text-decoration-color: #00af00\">24</span>, <span style=\"color: #00af00; text-decoration-color: #00af00\">32</span>)     │           <span style=\"color: #00af00; text-decoration-color: #00af00\">832</span> │\n",
       "├─────────────────────────────────┼────────────────────────┼───────────────┤\n",
       "│ pool1 (<span style=\"color: #0087ff; text-decoration-color: #0087ff\">MaxPooling2D</span>)            │ (<span style=\"color: #00d7ff; text-decoration-color: #00d7ff\">None</span>, <span style=\"color: #00af00; text-decoration-color: #00af00\">12</span>, <span style=\"color: #00af00; text-decoration-color: #00af00\">12</span>, <span style=\"color: #00af00; text-decoration-color: #00af00\">32</span>)     │             <span style=\"color: #00af00; text-decoration-color: #00af00\">0</span> │\n",
       "├─────────────────────────────────┼────────────────────────┼───────────────┤\n",
       "│ conv2 (<span style=\"color: #0087ff; text-decoration-color: #0087ff\">Conv2D</span>)                  │ (<span style=\"color: #00d7ff; text-decoration-color: #00d7ff\">None</span>, <span style=\"color: #00af00; text-decoration-color: #00af00\">8</span>, <span style=\"color: #00af00; text-decoration-color: #00af00\">8</span>, <span style=\"color: #00af00; text-decoration-color: #00af00\">64</span>)       │        <span style=\"color: #00af00; text-decoration-color: #00af00\">51,264</span> │\n",
       "├─────────────────────────────────┼────────────────────────┼───────────────┤\n",
       "│ pool2 (<span style=\"color: #0087ff; text-decoration-color: #0087ff\">MaxPooling2D</span>)            │ (<span style=\"color: #00d7ff; text-decoration-color: #00d7ff\">None</span>, <span style=\"color: #00af00; text-decoration-color: #00af00\">4</span>, <span style=\"color: #00af00; text-decoration-color: #00af00\">4</span>, <span style=\"color: #00af00; text-decoration-color: #00af00\">64</span>)       │             <span style=\"color: #00af00; text-decoration-color: #00af00\">0</span> │\n",
       "├─────────────────────────────────┼────────────────────────┼───────────────┤\n",
       "│ flatten (<span style=\"color: #0087ff; text-decoration-color: #0087ff\">Flatten</span>)               │ (<span style=\"color: #00d7ff; text-decoration-color: #00d7ff\">None</span>, <span style=\"color: #00af00; text-decoration-color: #00af00\">1024</span>)           │             <span style=\"color: #00af00; text-decoration-color: #00af00\">0</span> │\n",
       "├─────────────────────────────────┼────────────────────────┼───────────────┤\n",
       "│ dense1 (<span style=\"color: #0087ff; text-decoration-color: #0087ff\">Dense</span>)                  │ (<span style=\"color: #00d7ff; text-decoration-color: #00d7ff\">None</span>, <span style=\"color: #00af00; text-decoration-color: #00af00\">128</span>)            │       <span style=\"color: #00af00; text-decoration-color: #00af00\">131,200</span> │\n",
       "├─────────────────────────────────┼────────────────────────┼───────────────┤\n",
       "│ output_layer (<span style=\"color: #0087ff; text-decoration-color: #0087ff\">Dense</span>)            │ (<span style=\"color: #00d7ff; text-decoration-color: #00d7ff\">None</span>, <span style=\"color: #00af00; text-decoration-color: #00af00\">10</span>)             │         <span style=\"color: #00af00; text-decoration-color: #00af00\">1,290</span> │\n",
       "└─────────────────────────────────┴────────────────────────┴───────────────┘\n",
       "</pre>\n"
      ],
      "text/plain": [
       "┏━━━━━━━━━━━━━━━━━━━━━━━━━━━━━━━━━┳━━━━━━━━━━━━━━━━━━━━━━━━┳━━━━━━━━━━━━━━━┓\n",
       "┃\u001b[1m \u001b[0m\u001b[1mLayer (type)                   \u001b[0m\u001b[1m \u001b[0m┃\u001b[1m \u001b[0m\u001b[1mOutput Shape          \u001b[0m\u001b[1m \u001b[0m┃\u001b[1m \u001b[0m\u001b[1m      Param #\u001b[0m\u001b[1m \u001b[0m┃\n",
       "┡━━━━━━━━━━━━━━━━━━━━━━━━━━━━━━━━━╇━━━━━━━━━━━━━━━━━━━━━━━━╇━━━━━━━━━━━━━━━┩\n",
       "│ conv1 (\u001b[38;5;33mConv2D\u001b[0m)                  │ (\u001b[38;5;45mNone\u001b[0m, \u001b[38;5;34m24\u001b[0m, \u001b[38;5;34m24\u001b[0m, \u001b[38;5;34m32\u001b[0m)     │           \u001b[38;5;34m832\u001b[0m │\n",
       "├─────────────────────────────────┼────────────────────────┼───────────────┤\n",
       "│ pool1 (\u001b[38;5;33mMaxPooling2D\u001b[0m)            │ (\u001b[38;5;45mNone\u001b[0m, \u001b[38;5;34m12\u001b[0m, \u001b[38;5;34m12\u001b[0m, \u001b[38;5;34m32\u001b[0m)     │             \u001b[38;5;34m0\u001b[0m │\n",
       "├─────────────────────────────────┼────────────────────────┼───────────────┤\n",
       "│ conv2 (\u001b[38;5;33mConv2D\u001b[0m)                  │ (\u001b[38;5;45mNone\u001b[0m, \u001b[38;5;34m8\u001b[0m, \u001b[38;5;34m8\u001b[0m, \u001b[38;5;34m64\u001b[0m)       │        \u001b[38;5;34m51,264\u001b[0m │\n",
       "├─────────────────────────────────┼────────────────────────┼───────────────┤\n",
       "│ pool2 (\u001b[38;5;33mMaxPooling2D\u001b[0m)            │ (\u001b[38;5;45mNone\u001b[0m, \u001b[38;5;34m4\u001b[0m, \u001b[38;5;34m4\u001b[0m, \u001b[38;5;34m64\u001b[0m)       │             \u001b[38;5;34m0\u001b[0m │\n",
       "├─────────────────────────────────┼────────────────────────┼───────────────┤\n",
       "│ flatten (\u001b[38;5;33mFlatten\u001b[0m)               │ (\u001b[38;5;45mNone\u001b[0m, \u001b[38;5;34m1024\u001b[0m)           │             \u001b[38;5;34m0\u001b[0m │\n",
       "├─────────────────────────────────┼────────────────────────┼───────────────┤\n",
       "│ dense1 (\u001b[38;5;33mDense\u001b[0m)                  │ (\u001b[38;5;45mNone\u001b[0m, \u001b[38;5;34m128\u001b[0m)            │       \u001b[38;5;34m131,200\u001b[0m │\n",
       "├─────────────────────────────────┼────────────────────────┼───────────────┤\n",
       "│ output_layer (\u001b[38;5;33mDense\u001b[0m)            │ (\u001b[38;5;45mNone\u001b[0m, \u001b[38;5;34m10\u001b[0m)             │         \u001b[38;5;34m1,290\u001b[0m │\n",
       "└─────────────────────────────────┴────────────────────────┴───────────────┘\n"
      ]
     },
     "metadata": {},
     "output_type": "display_data"
    },
    {
     "data": {
      "text/html": [
       "<pre style=\"white-space:pre;overflow-x:auto;line-height:normal;font-family:Menlo,'DejaVu Sans Mono',consolas,'Courier New',monospace\"><span style=\"font-weight: bold\"> Total params: </span><span style=\"color: #00af00; text-decoration-color: #00af00\">184,586</span> (721.04 KB)\n",
       "</pre>\n"
      ],
      "text/plain": [
       "\u001b[1m Total params: \u001b[0m\u001b[38;5;34m184,586\u001b[0m (721.04 KB)\n"
      ]
     },
     "metadata": {},
     "output_type": "display_data"
    },
    {
     "data": {
      "text/html": [
       "<pre style=\"white-space:pre;overflow-x:auto;line-height:normal;font-family:Menlo,'DejaVu Sans Mono',consolas,'Courier New',monospace\"><span style=\"font-weight: bold\"> Trainable params: </span><span style=\"color: #00af00; text-decoration-color: #00af00\">184,586</span> (721.04 KB)\n",
       "</pre>\n"
      ],
      "text/plain": [
       "\u001b[1m Trainable params: \u001b[0m\u001b[38;5;34m184,586\u001b[0m (721.04 KB)\n"
      ]
     },
     "metadata": {},
     "output_type": "display_data"
    },
    {
     "data": {
      "text/html": [
       "<pre style=\"white-space:pre;overflow-x:auto;line-height:normal;font-family:Menlo,'DejaVu Sans Mono',consolas,'Courier New',monospace\"><span style=\"font-weight: bold\"> Non-trainable params: </span><span style=\"color: #00af00; text-decoration-color: #00af00\">0</span> (0.00 B)\n",
       "</pre>\n"
      ],
      "text/plain": [
       "\u001b[1m Non-trainable params: \u001b[0m\u001b[38;5;34m0\u001b[0m (0.00 B)\n"
      ]
     },
     "metadata": {},
     "output_type": "display_data"
    }
   ],
   "source": [
    "modelo_carregado.summary()"
   ]
  },
  {
   "cell_type": "code",
   "execution_count": 34,
   "id": "a9ebdba5",
   "metadata": {},
   "outputs": [
    {
     "name": "stderr",
     "output_type": "stream",
     "text": [
      "2025-05-20 10:40:28.541286: W external/local_xla/xla/tsl/framework/cpu_allocator_impl.cc:83] Allocation of 188160000 exceeds 10% of free system memory.\n"
     ]
    },
    {
     "name": "stdout",
     "output_type": "stream",
     "text": [
      "Acurácia no Treino: 98.16\n",
      "Acurácia no Teste: 98.18\n"
     ]
    }
   ],
   "source": [
    "# Treino\n",
    "## Predição no conjunto de treino\n",
    "y_pred_train = modelo_carregado.predict(x_train, verbose=0)\n",
    "## Convertendo as previsões para classes\n",
    "y_pred_train = np.argmax(y_pred_train, axis=1)\n",
    "## Convertendo os rótulos para classes\n",
    "y_true_train = np.argmax(y_train, axis=1)\n",
    "## Acurácia no conjunto de treino\n",
    "train_acc = float(sum(y_pred_train == y_true_train) / y_true_train.shape[0]) * 100\n",
    "\n",
    "\n",
    "# Teste\n",
    "## Predição no conjunto de teste\n",
    "y_pred_test = modelo_carregado.predict(x_test, verbose=0)\n",
    "## Convertendo as previsões para classes\n",
    "y_pred_test = np.argmax(y_pred_test, axis=1)\n",
    "## Convertendo os rótulos para classes\n",
    "y_true_test = np.argmax(y_test, axis=1)\n",
    "## Acurácia no conjunto de teste\n",
    "test_acc = float(sum(y_pred_test == y_true_test) / y_true_test.shape[0]) * 100\n",
    "\n",
    "print(f\"Acurácia no Treino: {train_acc:.2f}\")\n",
    "print(f\"Acurácia no Teste: {test_acc:.2f}\")"
   ]
  },
  {
   "cell_type": "code",
   "execution_count": null,
   "id": "96004b8e",
   "metadata": {},
   "outputs": [],
   "source": []
  }
 ],
 "metadata": {
  "kernelspec": {
   "display_name": "curso_visao_computacional",
   "language": "python",
   "name": "python3"
  },
  "language_info": {
   "codemirror_mode": {
    "name": "ipython",
    "version": 3
   },
   "file_extension": ".py",
   "mimetype": "text/x-python",
   "name": "python",
   "nbconvert_exporter": "python",
   "pygments_lexer": "ipython3",
   "version": "3.9.5"
  }
 },
 "nbformat": 4,
 "nbformat_minor": 5
}
