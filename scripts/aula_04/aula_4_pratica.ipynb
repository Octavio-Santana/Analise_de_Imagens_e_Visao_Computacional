{
 "cells": [
  {
   "cell_type": "markdown",
   "id": "b7febcc0",
   "metadata": {},
   "source": [
    "# 📘 Aula 4 – Atividade Prática\n",
    "\n",
    "![](../../data/imagem/banner-pos-2022.jpg)\n",
    "\n",
    "\n",
    "## Classificação de Dedos em Imagens de Mãos - Desafio de Desenvolvimento\n",
    "\n",
    "Neste notebook, você irá construir e aprimorar um modelo de deep learning para classificar quantos dedos (0-5) estão sendo mostrados em imagens de mãos, ignorando a distinção entre mão esquerda e direita. Siga as orientações em cada seção e complete os códigos onde indicado.\n",
    "\n",
    "**Dataset**\n",
    "\n",
    "* 21.600 imagens de mãos (128x128 pixels)\n",
    "    * Conjunto de treino: 18.000 imagens\n",
    "    * Conjunto de teste: 3.600 imagens\n",
    "* Cada imagem tem um rótulo indicando o número de dedos (0-5) nos últimos caracteres do nome do arquivo\n",
    "\n"
   ]
  },
  {
   "cell_type": "markdown",
   "id": "d955dbdb",
   "metadata": {},
   "source": [
    "# 1. Configuração Inicial e Exploração dos Dados\n",
    "\n",
    "**Objetivo**: Preparar o ambiente e entender a estrutura dos dados.\n",
    "\n",
    "**Tarefas:**\n",
    "\n",
    "* Complete os valores faltantes nas configurações\n",
    "* Verifique se o caminho do dataset está correto\n",
    "* Explore a estrutura dos diretórios (quantas pastas? como estão organizadas?)"
   ]
  },
  {
   "cell_type": "code",
   "execution_count": null,
   "id": "e707e961",
   "metadata": {},
   "outputs": [],
   "source": [
    "# TODO: Importe todas as bibliotecas necessárias\n",
    "# Dica: Você precisará de tensorflow/keras, pandas, numpy, matplotlib, seaborn\n",
    "\n",
    "# Configurações iniciais\n",
    "IMAGE_SIZE = (____, ____)  # Complete com o tamanho adequado\n",
    "BATCH_SIZE = ____          # Defina um batch size razoável\n",
    "EPOCHS = ____              # Comece com 20 épocas\n",
    "DATASET_PATH = \"____\"      # Complete com o caminho correto\n",
    "\n",
    "# TODO: Liste os arquivos no diretório do dataset\n",
    "# Dica: Use os.listdir() para verificar a estrutura de pastas"
   ]
  },
  {
   "cell_type": "markdown",
   "id": "fe1b00d6",
   "metadata": {},
   "source": [
    "# 2. Pré-processamento e Criação dos DataFrames\n",
    "\n",
    "**Objetivo:** Carregar os metadados das imagens e preparar para o treinamento.\n",
    "\n",
    "**Tarefas:**\n",
    "\n",
    "* Implemente a função extract_class corretamente\n",
    "* Verifique se a distribuição de classes está balanceada\n",
    "* Analise possíveis problemas de desbalanceamento"
   ]
  },
  {
   "cell_type": "code",
   "execution_count": null,
   "id": "88143e84",
   "metadata": {},
   "outputs": [],
   "source": [
    "def extract_class(filename):\n",
    "    \"\"\"Extrai o número de dedos do nome do arquivo\"\"\"\n",
    "    # TODO: Implemente a lógica para extrair a classe (0-5) do nome do arquivo\n",
    "    # Dica: Analise a estrutura do nome dos arquivos para encontrar o padrão\n",
    "    return ____\n",
    "\n",
    "# TODO: Crie os DataFrames para treino e teste\n",
    "# Dica: Use pd.DataFrame() com 'filename' e 'class' como colunas\n",
    "\n",
    "# Visualização da distribuição de classes\n",
    "plt.figure(figsize=(10,5))\n",
    "# TODO: Plote a distribuição das classes usando sns.countplot()"
   ]
  },
  {
   "cell_type": "markdown",
   "id": "f7d83d83",
   "metadata": {},
   "source": [
    "# 3. Data Augmentation e Geradores de Imagens\n",
    "\n",
    "**Objetivo:** Criar pipelines de pré-processamento para as imagens.\n",
    "\n",
    "**Tarefas:**\n",
    "\n",
    "* Experimente diferentes parâmetros de augmentation\n",
    "* Verifique se os geradores estão criados corretamente\n",
    "* Confirme o mapeamento de classes (class_indices)"
   ]
  },
  {
   "cell_type": "code",
   "execution_count": null,
   "metadata": {},
   "outputs": [],
   "source": [
    "# TODO: Configure o ImageDataGenerator para treino com augmentation\n",
    "train_datagen = ImageDataGenerator(\n",
    "    rescale=____,\n",
    "    rotation_range=____,\n",
    "    ____=____,  # Adicione pelo menos 3 transformações\n",
    "    ____=____,\n",
    "    ____=____\n",
    ")\n",
    "\n",
    "# TODO: Configure o ImageDataGenerator para teste (apenas normalização)\n",
    "\n",
    "# Crie os geradores de dados\n",
    "train_generator = train_datagen.flow_from_dataframe(\n",
    "    ____=____,\n",
    "    ____=____,\n",
    "    # Complete todos os parâmetros necessários\n",
    ")\n",
    "\n",
    "# TODO: Crie o gerador para teste (similar ao de treino, mas sem shuffle)"
   ]
  },
  {
   "cell_type": "markdown",
   "id": "2e668f7d",
   "metadata": {},
   "source": [
    "# 4. Visualização e Análise Exploratória\n",
    "\n",
    "**Objetivo:** Garantir que os dados estão sendo carregados corretamente.\n",
    "\n",
    "Tarefas:\n",
    "\n",
    "* Verifique se as transformações de augmentation estão funcionando\n",
    "* Confirme que os rótulos correspondem às imagens\n",
    "* Analise a qualidade das imagens após o pré-processamento"
   ]
  },
  {
   "cell_type": "code",
   "execution_count": null,
   "metadata": {},
   "outputs": [],
   "source": [
    "# TODO: Obtenha um batch de imagens do gerador de treino\n",
    "images, labels = ____\n",
    "\n",
    "# Visualização\n",
    "plt.figure(figsize=(15, 10))\n",
    "for i in range(min(9, len(images))):\n",
    "    plt.subplot(3, 3, i+1)\n",
    "    # TODO: Mostre cada imagem com seu respectivo rótulo\n",
    "    plt.title(f\"Class: {____}\")\n",
    "    plt.axis('off')"
   ]
  },
  {
   "cell_type": "markdown",
   "id": "e02d7f8e",
   "metadata": {},
   "source": [
    "# 5. Construção da Arquitetura do Modelo\n",
    "\n",
    "**Tarefa:** Implemente a arquitetura sequencial completa\n",
    "\n",
    "**Camada de Input**:\n",
    "   ```python\n",
    "   layers.Input((128, 128, 3))\n",
    "   ```\n",
    "\n",
    "**Primeiro Bloco Convolucional:**\n",
    "\n",
    "* Implemente uma camada Conv2D com:\n",
    "    * 32 filtros\n",
    "    * Kernel size 3x3\n",
    "    * Ativação ReLU\n",
    "* Adicione uma camada MaxPooling2D com pool size 2x2\n",
    "\n",
    "**Segundo Bloco Convolucional:**\n",
    "\n",
    "* Aumente para 64 filtros\n",
    "* Mantenha as mesmas configurações do primeiro bloco\n",
    "\n",
    "**Terceiro Bloco Convolucional:**\n",
    "\n",
    "* Aumente para 128 filtros\n",
    "* Mantenha as outras configurações\n",
    "\n",
    "**Camadas Densas (Fully Connected):**\n",
    "\n",
    "* Adicione uma camada Flatten() para transformar os features em 1D\n",
    "* Implemente Dropout de 50% para regularização\n",
    "* Adicione uma Dense layer com 128 neurônios e ativação ReLU\n",
    "* Finalize com uma Dense layer de saída com ativação softmax"
   ]
  },
  {
   "cell_type": "code",
   "execution_count": null,
   "metadata": {},
   "outputs": [],
   "source": [
    "from tensorflow.keras import layers, models\n",
    "\n",
    "model = models.Sequential([\n",
    "    # Camada Input\n",
    "\n",
    "    # Primeiro Bloco Convolucional\n",
    "\n",
    "    # Segundo Bloco Convolucional\n",
    "\n",
    "    # Terceiro Bloco Convolucional\n",
    "\n",
    "    # Camadas Densas (Fully Connected)\n",
    "    \n",
    "    # Camada de saída\n",
    "    layers.Dense(____, activation='____')  # Complete adequadamente\n",
    "])\n",
    "\n",
    "# TODO: Compile o modelo com optimizer, loss e metrics apropriados\n",
    "model.compile(____)"
   ]
  },
  {
   "cell_type": "markdown",
   "id": "58162df5",
   "metadata": {},
   "source": [
    "# 6. Treinamento e Monitoramento\n",
    "\n",
    "**Objetivo:** Treinar o modelo com callbacks apropriados.\n",
    "\n",
    "**Tarefas:**\n",
    "\n",
    "* Configure os callbacks para monitorar o treinamento\n",
    "* Ajuste o número de épocas conforme necessário\n",
    "* Monitore tanto loss quanto accuracy"
   ]
  },
  {
   "cell_type": "code",
   "execution_count": null,
   "id": "4f5ee868",
   "metadata": {},
   "outputs": [],
   "source": [
    "# TODO: Implemente callbacks (EarlyStopping, ModelCheckpoint, ReduceLROnPlateau)\n",
    "callbacks = [\n",
    "    ____,\n",
    "    ____,\n",
    "    ____\n",
    "]\n",
    "\n",
    "# TODO: Execute o treinamento\n",
    "history = model.fit(\n",
    "    ____,\n",
    "    epochs=____,\n",
    "    validation_data=____,\n",
    "    callbacks=____\n",
    ")"
   ]
  },
  {
   "cell_type": "markdown",
   "id": "5ecfefbd",
   "metadata": {},
   "source": [
    "# 7. Avaliação e Análise de Resultados\n",
    "\n",
    "**Objetivo:** Avaliar o desempenho do modelo.\n",
    "\n",
    "**Tarefas:**\n",
    "\n",
    "* Identifique quais classes têm melhor/piro desempenho\n",
    "* Analise os erros mais comuns na matriz de confusão\n",
    "* Verifique se há overfitting"
   ]
  },
  {
   "cell_type": "code",
   "execution_count": null,
   "metadata": {},
   "outputs": [],
   "source": [
    "# TODO: Gere e mostre a matriz de confusão\n",
    "# Dica: Use confusion_matrix e seaborn.heatmap()\n",
    "\n",
    "# TODO: Mostre o classification report\n",
    "# Dica: Use classification_report do sklearn\n",
    "\n",
    "# TODO: Plote gráficos de accuracy e loss durante o treinamento"
   ]
  },
  {
   "cell_type": "code",
   "execution_count": null,
   "id": "4ff1bd1e",
   "metadata": {},
   "outputs": [],
   "source": []
  },
  {
   "cell_type": "code",
   "execution_count": null,
   "id": "348022dc",
   "metadata": {},
   "outputs": [],
   "source": []
  },
  {
   "cell_type": "code",
   "execution_count": null,
   "metadata": {},
   "outputs": [],
   "source": []
  }
 ],
 "metadata": {
  "kernelspec": {
   "display_name": "curso_visao_computacional",
   "language": "python",
   "name": "python3"
  },
  "language_info": {
   "codemirror_mode": {
    "name": "ipython",
    "version": 3
   },
   "file_extension": ".py",
   "mimetype": "text/x-python",
   "name": "python",
   "nbconvert_exporter": "python",
   "pygments_lexer": "ipython3",
   "version": "3.9.5"
  }
 },
 "nbformat": 4,
 "nbformat_minor": 5
}
